{
 "cells": [
  {
   "cell_type": "markdown",
   "id": "b691b54f-405d-4933-8f51-3d24a25d2c22",
   "metadata": {},
   "source": [
    "# ABC CAFE! \n",
    "Order Management System"
   ]
  },
  {
   "cell_type": "code",
   "execution_count": 47,
   "id": "0e6c53e5-18fc-4e8c-a7bf-4915e48c6bbf",
   "metadata": {},
   "outputs": [
    {
     "name": "stdout",
     "output_type": "stream",
     "text": [
      "Welcome to ABC Cafe!\n",
      "\n",
      "Menu:\n",
      "Pizza - $60\n",
      "Pasta - $50\n",
      "Coffee - $55\n",
      "Maggi - $40\n",
      "Burger - $35\n",
      "Fries - $20\n"
     ]
    },
    {
     "name": "stdin",
     "output_type": "stream",
     "text": [
      "\n",
      "Enter the item you want to order or type 'no' to finish):  coffee\n",
      "How many coffee(s) would you like to order?  1\n",
      "\n",
      "Enter the item you want to order or type 'no' to finish):  pizza\n",
      "How many pizza(s) would you like to order?  2\n",
      "\n",
      "Enter the item you want to order or type 'no' to finish):  no\n"
     ]
    },
    {
     "name": "stdout",
     "output_type": "stream",
     "text": [
      "\n",
      "Your Order Summary:\n",
      "Coffee x 1 = $55\n",
      "Pizza x 2 = $120\n",
      "\n",
      "Total Amount: $175\n",
      "\n",
      "Thank you for visiting ABC Cafe! Have a great day! \n"
     ]
    }
   ],
   "source": [
    "# Cafe Order\n",
    "\n",
    "menu = {\n",
    "    \"pizza\": 60,\n",
    "    \"pasta\": 50,\n",
    "    \"coffee\": 55,\n",
    "    \"maggi\": 40,\n",
    "    \"burger\": 35,\n",
    "    \"fries\": 20\n",
    "}\n",
    "\n",
    "print(\"Welcome to ABC Cafe!\")  # Greeting message\n",
    "\n",
    "order = {}\n",
    "total_amount = 0\n",
    "\n",
    "# Display menu\n",
    "print(\"\\nMenu:\")\n",
    "for item, price in menu.items():\n",
    "    print(f\"{item.capitalize()} - ${price}\")\n",
    "\n",
    "# Taking orders\n",
    "while True:\n",
    "    it = input(\"\\nEnter the item you want to order or type 'no' to finish): \").lower()\n",
    "    \n",
    "    if it == 'no' or it=='No':\n",
    "        break\n",
    "    \n",
    "    if it in menu:\n",
    "        quantity = int(input(f\"How many {it}(s) would you like to order? \"))\n",
    "        order[it] = order.get(it, 0) + quantity\n",
    "    else:\n",
    "        print(\"Sorry, put a valid item.\")\n",
    "\n",
    "# Calculate total bill\n",
    "print(\"\\nYour Order Summary:\")\n",
    "for item, quantity in order.items():\n",
    "    price = menu[item] * quantity\n",
    "    total_amount += price\n",
    "    print(f\"{item.capitalize()} x {quantity} = ${price}\")\n",
    "\n",
    "print(f\"\\nTotal Amount: ${total_amount}\")\n",
    "print(\"\\nThank you for visiting ABC Cafe! Have a great day! \")\n"
   ]
  },
  {
   "cell_type": "code",
   "execution_count": null,
   "id": "1de20805-c98f-4c9c-81a3-a9a8365ca55c",
   "metadata": {},
   "outputs": [],
   "source": []
  }
 ],
 "metadata": {
  "kernelspec": {
   "display_name": "Python 3 (ipykernel)",
   "language": "python",
   "name": "python3"
  },
  "language_info": {
   "codemirror_mode": {
    "name": "ipython",
    "version": 3
   },
   "file_extension": ".py",
   "mimetype": "text/x-python",
   "name": "python",
   "nbconvert_exporter": "python",
   "pygments_lexer": "ipython3",
   "version": "3.13.1"
  }
 },
 "nbformat": 4,
 "nbformat_minor": 5
}
